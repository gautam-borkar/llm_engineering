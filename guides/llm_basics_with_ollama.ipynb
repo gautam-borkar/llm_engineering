{
 "cells": [
  {
   "cell_type": "markdown",
   "id": "106edab2",
   "metadata": {},
   "source": [
    "# My first LLM Project\n",
    "Our goal is to code a new kind of Web Browser. Give it a URL, and it will respond with a summary.\n",
    "\n",
    "## Install required packages for LLM integration\n",
    "Run this cell first - you'll see installation progress for each package. After running this, you'll be ready to import and use these packages in your LLM project!"
   ]
  },
  {
   "cell_type": "code",
   "execution_count": null,
   "id": "975553fe",
   "metadata": {},
   "outputs": [],
   "source": [
    "!pip3 install bs4 ollama requests"
   ]
  },
  {
   "cell_type": "code",
   "execution_count": null,
   "id": "61fcc581",
   "metadata": {},
   "outputs": [],
   "source": [
    "import ollama\n",
    "import requests\n",
    "\n",
    "from bs4 import BeautifulSoup"
   ]
  },
  {
   "cell_type": "code",
   "execution_count": null,
   "id": "a1bd2f5d",
   "metadata": {},
   "outputs": [],
   "source": [
    "MODEL = \"llama3\""
   ]
  },
  {
   "cell_type": "code",
   "execution_count": null,
   "id": "b8da428d",
   "metadata": {},
   "outputs": [],
   "source": [
    "class Website:\n",
    "    def __init__(self, url):\n",
    "        self.url = url\n",
    "        response = requests.get(url)\n",
    "        soup = BeautifulSoup(response.content, features=\"html.parser\")\n",
    "        self.title = soup.title.string if soup.title else None\n",
    "\n",
    "        for irrelevant in soup.body([\"script\", \"style\", \"img\", \"input\"]):\n",
    "            irrelevant.decompose()\n",
    "\n",
    "        self.text = soup.body.get_text(separator='\\n', strip=True)\n",
    "        "
   ]
  },
  {
   "cell_type": "code",
   "execution_count": null,
   "id": "5a89dd40",
   "metadata": {},
   "outputs": [],
   "source": [
    "website = Website(\"https://www.google.com\")\n",
    "print(website.title)\n",
    "print(website.text)"
   ]
  },
  {
   "cell_type": "code",
   "execution_count": null,
   "id": "64496bb9",
   "metadata": {},
   "outputs": [],
   "source": [
    "system_prompt = \"You are an assistant that analyzes the contents of a website and provides a short summary, ignoring text that might be navigation related. \\\n",
    "Respond in markdown.\""
   ]
  },
  {
   "cell_type": "code",
   "execution_count": null,
   "id": "617c35bd",
   "metadata": {},
   "outputs": [],
   "source": [
    "def user_prompt_for(website_url):\n",
    "    "
   ]
  },
  {
   "cell_type": "code",
   "execution_count": null,
   "id": "a791899c",
   "metadata": {},
   "outputs": [],
   "source": [
    "messages = [\n",
    "    {\"role\": \"user\", \"content\": \"Describe some of the business use cases of AI.\"},\n",
    "]"
   ]
  },
  {
   "cell_type": "code",
   "execution_count": null,
   "id": "e7d05dc9",
   "metadata": {},
   "outputs": [],
   "source": [
    "response = ollama.chat(model=MODEL, messages=messages)\n",
    "print(response['message']['content'])"
   ]
  },
  {
   "cell_type": "code",
   "execution_count": null,
   "id": "be54e6e1",
   "metadata": {},
   "outputs": [],
   "source": []
  }
 ],
 "metadata": {
  "kernelspec": {
   "display_name": ".venv",
   "language": "python",
   "name": "python3"
  },
  "language_info": {
   "codemirror_mode": {
    "name": "ipython",
    "version": 3
   },
   "file_extension": ".py",
   "mimetype": "text/x-python",
   "name": "python",
   "nbconvert_exporter": "python",
   "pygments_lexer": "ipython3",
   "version": "3.12.5"
  }
 },
 "nbformat": 4,
 "nbformat_minor": 5
}
