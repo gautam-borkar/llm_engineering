{
 "cells": [
  {
   "cell_type": "markdown",
   "id": "106edab2",
   "metadata": {},
   "source": [
    "# LLM Basic with Ollama\n",
    "Our goal is to code a new kind of Web Browser. Give it a URL, and it will respond with a summary.\n",
    "\n",
    "## Install required packages for LLM integration\n",
    "Run this cell first - you'll see installation progress for each package. After running this, you'll be ready to import and use these packages in your LLM project!"
   ]
  },
  {
   "cell_type": "code",
   "execution_count": null,
   "id": "975553fe",
   "metadata": {},
   "outputs": [],
   "source": [
    "!pip3 install bs4 ollama requests"
   ]
  },
  {
   "cell_type": "markdown",
   "id": "521a6eaf",
   "metadata": {},
   "source": [
    "## Importing Libraries"
   ]
  },
  {
   "cell_type": "code",
   "execution_count": null,
   "id": "61fcc581",
   "metadata": {},
   "outputs": [],
   "source": [
    "import ollama\n",
    "import requests\n",
    "\n",
    "from bs4 import BeautifulSoup\n",
    "from IPython.display import Markdown, display"
   ]
  },
  {
   "cell_type": "markdown",
   "id": "1e137e58",
   "metadata": {},
   "source": [
    "## Define constants for Jupyter notebook"
   ]
  },
  {
   "cell_type": "code",
   "execution_count": null,
   "id": "a1bd2f5d",
   "metadata": {},
   "outputs": [],
   "source": [
    "MODEL = \"llama3\""
   ]
  },
  {
   "cell_type": "markdown",
   "id": "e417e14a",
   "metadata": {},
   "source": [
    "## Create website object\n",
    "This class initializes a `Website` object with a given URL, fetches the website's content, extracts the title, removes irrelevant elements, and stores the remaining text content. This class can be used to analyze and process web pages in a structured manner."
   ]
  },
  {
   "cell_type": "code",
   "execution_count": null,
   "id": "b8da428d",
   "metadata": {},
   "outputs": [],
   "source": [
    "class Website:\n",
    "    def __init__(self, url):\n",
    "        self.url = url\n",
    "        response = requests.get(url)\n",
    "        soup = BeautifulSoup(response.content, features=\"html.parser\")\n",
    "        self.title = soup.title.string if soup.title else None\n",
    "\n",
    "        for irrelevant in soup.body([\"script\", \"style\", \"img\", \"input\"]):\n",
    "            irrelevant.decompose()\n",
    "\n",
    "        self.text = soup.body.get_text(separator='\\n', strip=True)\n",
    "        "
   ]
  },
  {
   "cell_type": "markdown",
   "id": "d3f69816",
   "metadata": {},
   "source": [
    "## System Prompt\n",
    "The `system_prompt` variable is a string that defines the instructions or prompt for an assistant. In this case, the assistant is expected to perform the following tasks:\n",
    "\n",
    "1. Analyze the contents of a website.\n",
    "2. Focus on the main content, excluding navigation-related text.\n",
    "3. Generate a concise summary of the website's content.\n",
    "4. Format the summary using markdown.\n",
    "\n",
    "Markdown is a lightweight markup language used for formatting text. It allows the assistant to apply various formatting elements such as headers, emphasis, lists, links, and code blocks using a simple syntax.\n",
    "\n",
    "The purpose of this system prompt is to guide the assistant in providing a well-structured and readable summary of a website's content, making it easier for users to understand the main points without being overwhelmed by navigation-related information."
   ]
  },
  {
   "cell_type": "code",
   "execution_count": null,
   "id": "64496bb9",
   "metadata": {},
   "outputs": [],
   "source": [
    "system_prompt = \"You are an assistant that analyzes the contents of a website and provides a short summary, ignoring text that might be navigation related. \\\n",
    "Respond in markdown.\""
   ]
  },
  {
   "cell_type": "code",
   "execution_count": null,
   "id": "617c35bd",
   "metadata": {},
   "outputs": [],
   "source": [
    "def user_prompt_for(website):\n",
    "    user_prompt = f\"\"\"You are looking for website titled {website.title}.\n",
    "                      The contents of this website is as follows in tripple backticks:\n",
    "                      ```\n",
    "                      {website.text}\n",
    "                      ```\n",
    "                      please provide a short summary of this website in markdown.\n",
    "                      If it includes news or announcements, then summarize these too.\"\"\"\n",
    "    return user_prompt"
   ]
  },
  {
   "cell_type": "code",
   "execution_count": null,
   "id": "a791899c",
   "metadata": {},
   "outputs": [],
   "source": [
    "def message(website):\n",
    "  messages = [\n",
    "    {\"role\": \"system\", \"content\": system_prompt},\n",
    "    {\"role\": \"user\", \"content\": user_prompt_for(website=website)},\n",
    "  ]\n",
    "  return messages"
   ]
  },
  {
   "cell_type": "code",
   "execution_count": null,
   "id": "72a8a209",
   "metadata": {},
   "outputs": [],
   "source": [
    "def summarize(url):\n",
    "  website = Website(url=url)\n",
    "  response = ollama.chat(model=MODEL, messages=message(website=website))\n",
    "  return response['message']['content']"
   ]
  },
  {
   "cell_type": "code",
   "execution_count": null,
   "id": "be54e6e1",
   "metadata": {},
   "outputs": [],
   "source": [
    "def display_summary(url):\n",
    "  summary = summarize(url=url)\n",
    "  display(Markdown(summary))"
   ]
  },
  {
   "cell_type": "code",
   "execution_count": null,
   "id": "bd5d2cfb",
   "metadata": {},
   "outputs": [],
   "source": [
    "display_summary(\"https://www.google.com/\")"
   ]
  }
 ],
 "metadata": {
  "kernelspec": {
   "display_name": ".venv",
   "language": "python",
   "name": "python3"
  },
  "language_info": {
   "codemirror_mode": {
    "name": "ipython",
    "version": 3
   },
   "file_extension": ".py",
   "mimetype": "text/x-python",
   "name": "python",
   "nbconvert_exporter": "python",
   "pygments_lexer": "ipython3",
   "version": "3.12.7"
  }
 },
 "nbformat": 4,
 "nbformat_minor": 5
}
